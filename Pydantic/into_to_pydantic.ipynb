{
 "cells": [
  {
   "cell_type": "code",
   "execution_count": 2,
   "metadata": {},
   "outputs": [],
   "source": [
    "from pydantic_ai import Agent\n",
    "from pydantic_ai.models.gemini import GeminiAgentModel"
   ]
  },
  {
   "cell_type": "code",
   "execution_count": 5,
   "metadata": {},
   "outputs": [
    {
     "ename": "TypeError",
     "evalue": "GeminiAgentModel.__init__() missing 6 required positional arguments: 'http_client', 'auth', 'url', 'function_tools', 'allow_text_result', and 'result_tools'",
     "output_type": "error",
     "traceback": [
      "\u001b[1;31m---------------------------------------------------------------------------\u001b[0m",
      "\u001b[1;31mTypeError\u001b[0m                                 Traceback (most recent call last)",
      "Cell \u001b[1;32mIn[5], line 1\u001b[0m\n\u001b[1;32m----> 1\u001b[0m model \u001b[38;5;241m=\u001b[39m \u001b[43mGeminiAgentModel\u001b[49m\u001b[43m(\u001b[49m\u001b[43mmodel_name\u001b[49m\u001b[38;5;241;43m=\u001b[39;49m\u001b[38;5;124;43m'\u001b[39;49m\u001b[38;5;124;43mgemini-2.0-flash-exp\u001b[39;49m\u001b[38;5;124;43m'\u001b[39;49m\u001b[43m)\u001b[49m\n\u001b[0;32m      2\u001b[0m agent \u001b[38;5;241m=\u001b[39m Agent(model\u001b[38;5;241m=\u001b[39mmodel)\n\u001b[0;32m      3\u001b[0m \u001b[38;5;28mprint\u001b[39m(agent\u001b[38;5;241m.\u001b[39mrun_sync(\u001b[38;5;124m\"\u001b[39m\u001b[38;5;124mWhat is the capital of the United States?\u001b[39m\u001b[38;5;124m\"\u001b[39m)\u001b[38;5;241m.\u001b[39mdata)\n",
      "\u001b[1;31mTypeError\u001b[0m: GeminiAgentModel.__init__() missing 6 required positional arguments: 'http_client', 'auth', 'url', 'function_tools', 'allow_text_result', and 'result_tools'"
     ]
    }
   ],
   "source": [
    "model = GeminiAgentModel(model_name='gemini-2.0-flash-exp')\n",
    "agent = Agent(model=model)\n",
    "print(agent.run_sync(\"What is the capital of the United States?\").data)"
   ]
  },
  {
   "cell_type": "code",
   "execution_count": null,
   "metadata": {},
   "outputs": [],
   "source": []
  }
 ],
 "metadata": {
  "kernelspec": {
   "display_name": "llmenv",
   "language": "python",
   "name": "python3"
  },
  "language_info": {
   "codemirror_mode": {
    "name": "ipython",
    "version": 3
   },
   "file_extension": ".py",
   "mimetype": "text/x-python",
   "name": "python",
   "nbconvert_exporter": "python",
   "pygments_lexer": "ipython3",
   "version": "3.12.8"
  }
 },
 "nbformat": 4,
 "nbformat_minor": 2
}
