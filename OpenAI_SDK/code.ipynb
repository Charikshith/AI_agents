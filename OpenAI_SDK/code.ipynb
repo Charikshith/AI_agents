{
 "cells": [
  {
   "cell_type": "code",
   "execution_count": 2,
   "metadata": {},
   "outputs": [],
   "source": [
    "import nest_asyncio\n",
    "nest_asyncio.apply()\n",
    "# EDIT: the __import__ line is not needed, leaving it just \n",
    "# so that the comments make sense\n",
    "# __import__('IPython').embed()"
   ]
  },
  {
   "cell_type": "markdown",
   "metadata": {},
   "source": [
    "#### Test 101"
   ]
  },
  {
   "cell_type": "code",
   "execution_count": 3,
   "metadata": {},
   "outputs": [
    {
     "name": "stdout",
     "output_type": "stream",
     "text": [
      "Functions call themselves,  \n",
      "Loops within loops, tracing deep,  \n",
      "Endless paths unfold.\n"
     ]
    }
   ],
   "source": [
    "from agents import Agent, Runner\n",
    "from dotenv import  load_dotenv\n",
    "from agents import set_default_openai_api,set_default_openai_key \n",
    "import os\n",
    "\n",
    "load_dotenv(\"D:\\\\Code\\\\AI\\\\.env\")\n",
    "\n",
    "set_default_openai_api(\"chat_completions\")\n",
    "openai_api_key = os.environ.get(\"OPENAI_API_KEY\")\n",
    "set_default_openai_key(openai_api_key)\n",
    "\n",
    "agent = Agent(name=\"Assistant\", instructions=\"You are a helpful assistant\",model='gpt-4o-mini')\n",
    "\n",
    "result = Runner.run_sync(agent, \"Write a haiku about recursion in programming.\",max_turns=2)\n",
    "print(result.final_output)\n",
    "\n",
    "# Code within the code,\n",
    "# Functions calling themselves,\n",
    "# Infinite loop's dance."
   ]
  },
  {
   "cell_type": "markdown",
   "metadata": {},
   "source": []
  }
 ],
 "metadata": {
  "kernelspec": {
   "display_name": "llmenv",
   "language": "python",
   "name": "python3"
  },
  "language_info": {
   "codemirror_mode": {
    "name": "ipython",
    "version": 3
   },
   "file_extension": ".py",
   "mimetype": "text/x-python",
   "name": "python",
   "nbconvert_exporter": "python",
   "pygments_lexer": "ipython3",
   "version": "3.12.8"
  }
 },
 "nbformat": 4,
 "nbformat_minor": 2
}
