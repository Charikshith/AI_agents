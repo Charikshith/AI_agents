{
 "cells": [
  {
   "cell_type": "code",
   "execution_count": 2,
   "metadata": {},
   "outputs": [],
   "source": [
    "import nest_asyncio\n",
    "nest_asyncio.apply()\n",
    "# EDIT: the __import__ line is not needed, leaving it just \n",
    "# so that the comments make sense\n",
    "# __import__('IPython').embed()"
   ]
  },
  {
   "cell_type": "markdown",
   "metadata": {},
   "source": [
    "#### Test 101"
   ]
  },
  {
   "cell_type": "code",
   "execution_count": 3,
   "metadata": {},
   "outputs": [
    {
     "name": "stdout",
     "output_type": "stream",
     "text": [
      "Functions call themselves,  \n",
      "Loops within loops, tracing deep,  \n",
      "Endless paths unfold.\n"
     ]
    }
   ],
   "source": [
    "from agents import Agent, Runner\n",
    "from dotenv import  load_dotenv\n",
    "from agents import set_default_openai_api,set_default_openai_key \n",
    "import os\n",
    "\n",
    "load_dotenv(\"D:\\\\Code\\\\AI\\\\.env\")\n",
    "\n",
    "set_default_openai_api(\"chat_completions\")\n",
    "openai_api_key = os.environ.get(\"OPENAI_API_KEY\")\n",
    "set_default_openai_key(openai_api_key)\n",
    "\n",
    "agent = Agent(name=\"Assistant\", instructions=\"You are a helpful assistant\",model='gpt-4o-mini')\n",
    "\n",
    "result = Runner.run_sync(agent, \"Write a haiku about recursion in programming.\",max_turns=2)\n",
    "print(result.final_output)\n",
    "\n",
    "# Code within the code,\n",
    "# Functions calling themselves,\n",
    "# Infinite loop's dance."
   ]
  },
  {
   "cell_type": "markdown",
   "metadata": {},
   "source": []
  },
  {
   "cell_type": "markdown",
   "metadata": {},
   "source": [
    "#### Ollama Version OPENAI SDK"
   ]
  },
  {
   "cell_type": "code",
   "execution_count": 10,
   "metadata": {},
   "outputs": [
    {
     "name": "stdout",
     "output_type": "stream",
     "text": [
      "Using Ollama model: deepseek-r1:14b\n"
     ]
    },
    {
     "name": "stderr",
     "output_type": "stream",
     "text": [
      "2025-03-16 11:22:50,216 - httpx - INFO - HTTP Request: POST http://localhost:11434/v1/chat/completions \"HTTP/1.1 404 Not Found\"\n",
      "2025-03-16 11:22:50,218 - agent_adapter - ERROR - Error running agent: Error code: 404 - {'error': {'message': 'model \"mistral\" not found, try pulling it first', 'type': 'api_error', 'param': None, 'code': None}}\n",
      "Traceback (most recent call last):\n",
      "  File \"d:\\Code\\AI\\Agents\\Medium\\Agent\\AI_agents\\OpenAI_SDK\\agent_adapter.py\", line 92, in run\n",
      "    response = self.model.chat.completions.create(\n",
      "               ^^^^^^^^^^^^^^^^^^^^^^^^^^^^^^^^^^^\n",
      "  File \"d:\\Code\\ENVS\\llmenv\\Lib\\site-packages\\openai\\_utils\\_utils.py\", line 279, in wrapper\n",
      "    return func(*args, **kwargs)\n",
      "           ^^^^^^^^^^^^^^^^^^^^^\n",
      "  File \"d:\\Code\\ENVS\\llmenv\\Lib\\site-packages\\openai\\resources\\chat\\completions\\completions.py\", line 914, in create\n",
      "    return self._post(\n",
      "           ^^^^^^^^^^^\n",
      "  File \"d:\\Code\\ENVS\\llmenv\\Lib\\site-packages\\openai\\_base_client.py\", line 1242, in post\n",
      "    return cast(ResponseT, self.request(cast_to, opts, stream=stream, stream_cls=stream_cls))\n",
      "                           ^^^^^^^^^^^^^^^^^^^^^^^^^^^^^^^^^^^^^^^^^^^^^^^^^^^^^^^^^^^^^^^^^\n",
      "  File \"d:\\Code\\ENVS\\llmenv\\Lib\\site-packages\\openai\\_base_client.py\", line 919, in request\n",
      "    return self._request(\n",
      "           ^^^^^^^^^^^^^^\n",
      "  File \"d:\\Code\\ENVS\\llmenv\\Lib\\site-packages\\openai\\_base_client.py\", line 1023, in _request\n",
      "    raise self._make_status_error_from_response(err.response) from None\n",
      "openai.NotFoundError: Error code: 404 - {'error': {'message': 'model \"mistral\" not found, try pulling it first', 'type': 'api_error', 'param': None, 'code': None}}\n",
      "\n"
     ]
    },
    {
     "data": {
      "text/plain": [
       "<agent_adapter.AgentResponse at 0x182c48beed0>"
      ]
     },
     "execution_count": 10,
     "metadata": {},
     "output_type": "execute_result"
    }
   ],
   "source": [
    "from ollama_client import OllamaClient\n",
    "from agents import Agent, Runner\n",
    "import agent_adapter\n",
    "client = OllamaClient(model_name=\"deepseek-r1:14b\")\n",
    "\n",
    "agent = Agent(\n",
    "        name=\"Assistant\",\n",
    "        instructions=(\n",
    "            \"You are a helpful assistant\"\n",
    "        ),\n",
    "        # tools=tools,\n",
    "        model=client,\n",
    "    )\n",
    "\n",
    "agent.run(message=\"What is war?\")"
   ]
  },
  {
   "cell_type": "code",
   "execution_count": null,
   "metadata": {},
   "outputs": [],
   "source": []
  }
 ],
 "metadata": {
  "kernelspec": {
   "display_name": "llmenv",
   "language": "python",
   "name": "python3"
  },
  "language_info": {
   "codemirror_mode": {
    "name": "ipython",
    "version": 3
   },
   "file_extension": ".py",
   "mimetype": "text/x-python",
   "name": "python",
   "nbconvert_exporter": "python",
   "pygments_lexer": "ipython3",
   "version": "3.12.8"
  }
 },
 "nbformat": 4,
 "nbformat_minor": 2
}
