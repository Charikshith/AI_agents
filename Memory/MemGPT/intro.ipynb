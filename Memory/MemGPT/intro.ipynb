{
 "cells": [
  {
   "cell_type": "markdown",
   "id": "30bebae7",
   "metadata": {},
   "source": [
    "# LETTA (Formally MemGPT)"
   ]
  },
  {
   "cell_type": "markdown",
   "id": "602a9e6b",
   "metadata": {},
   "source": [
    "Letta enalbles developers to build and deploy stateful AI Agents- agents that maintian memory and context across long-running conversations. "
   ]
  },
  {
   "cell_type": "markdown",
   "id": "1885e221",
   "metadata": {},
   "source": []
  }
 ],
 "metadata": {
  "kernelspec": {
   "display_name": "llmenv",
   "language": "python",
   "name": "python3"
  },
  "language_info": {
   "name": "python",
   "version": "3.12.8"
  }
 },
 "nbformat": 4,
 "nbformat_minor": 5
}
